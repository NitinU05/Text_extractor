{
 "cells": [
  {
   "cell_type": "code",
   "execution_count": 1,
   "metadata": {},
   "outputs": [],
   "source": [
    "import pandas as pd\n",
    "from dotenv import load_dotenv\n",
    "import subprocess\n",
    "import os\n",
    "from extractor import process_image_with_together\n",
    "import re\n",
    "from text_mine import extract_data_flexible\n"
   ]
  },
  {
   "cell_type": "code",
   "execution_count": 16,
   "metadata": {},
   "outputs": [
    {
     "name": "stdout",
     "output_type": "stream",
     "text": [
      "\n"
     ]
    }
   ],
   "source": [
    "import subprocess\n",
    "file_path = \"bill.jpeg\"\n",
    "api_key = \"21c8753437eb9ce5822db4ee270abea087cc4ab2e31f59401f8ee91d1973aa62\"\n",
    "result = subprocess.run(\n",
    "    ['node','ocrScript.js',file_path,api_key],\n",
    "    capture_output=True,\n",
    "    text= True\n",
    ")\n",
    "\n",
    "print(result.stdout)"
   ]
  },
  {
   "cell_type": "code",
   "execution_count": 18,
   "metadata": {},
   "outputs": [
    {
     "name": "stdout",
     "output_type": "stream",
     "text": [
      "\n",
      "added 53 packages in 27s\n",
      "\n",
      "3 packages are looking for funding\n",
      "  run `npm fund` for details\n"
     ]
    },
    {
     "name": "stderr",
     "output_type": "stream",
     "text": [
      "npm warn deprecated q@1.5.1: You or someone you depend on is using Q, the JavaScript Promise library that gave JavaScript developers strong feelings about promises. They can almost certainly migrate to the native JavaScript promise now. Thank you literally everyone for joining me in this bet against the odds. Be excellent to each other.\n",
      "npm warn deprecated\n",
      "npm warn deprecated (For a CapTP with native promises, see @endo/eventual-send and @endo/captp)\n",
      "npm notice\n",
      "npm notice New patch version of npm available! 10.9.0 -> 10.9.1\n",
      "npm notice Changelog: https://github.com/npm/cli/releases/tag/v10.9.1\n",
      "npm notice To update run: npm install -g npm@10.9.1\n",
      "npm notice\n"
     ]
    }
   ],
   "source": [
    "!npm install together-ai"
   ]
  },
  {
   "cell_type": "code",
   "execution_count": 23,
   "metadata": {},
   "outputs": [
    {
     "name": "stdout",
     "output_type": "stream",
     "text": [
      "Key-Value Pairs:\n",
      "\n",
      "* Date: 18-11-2024\n",
      "* Rate: 103\n",
      "* Product: Petrol\n",
      "* Amount (Rs.): 3090\n",
      "* Quantity: 30\n",
      "\n",
      "These key-value pairs are extracted from the Cash/Credit Memo document provided.Invalid chunk structure\n"
     ]
    }
   ],
   "source": [
    "from together import Together\n",
    "import base64\n",
    "\n",
    "client = Together(api_key=\"21c8753437eb9ce5822db4ee270abea087cc4ab2e31f59401f8ee91d1973aa62\")\n",
    "\n",
    "getDescriptionPrompt = \"\"\"extract date,Rate,product,amount(rs),quantity. date is alway in dd-mm-yyyy format. provide key-value pair\"\"\"\n",
    "\n",
    "#imagePath= \"U:/Bill_image/1_Screenshot_20241001-100107.png\"\n",
    "imagePath= \"i7.jpg\"\n",
    "\n",
    "def encode_image(image_path):\n",
    "        with open(image_path, \"rb\") as image_file:\n",
    "            return base64.b64encode(image_file.read()).decode('utf-8')\n",
    "\n",
    "base64_image = encode_image(imagePath)\n",
    "\n",
    "stream = client.chat.completions.create(\n",
    "    model=\"meta-llama/Llama-Vision-Free\",\n",
    "    messages=[\n",
    "        {\n",
    "            \"role\": \"user\",\n",
    "            \"content\": [\n",
    "                {\"type\": \"text\", \"text\": getDescriptionPrompt},\n",
    "                {\n",
    "                    \"type\": \"image_url\",\n",
    "                    \"image_url\": {\n",
    "                        \"url\": f\"data:image/jpeg;base64,{base64_image}\",\n",
    "                    },\n",
    "                },\n",
    "            ],\n",
    "        }\n",
    "    ],\n",
    "    stream=True,\n",
    ")\n",
    "result =\"\"\n",
    "\n",
    "for chunk in stream:\n",
    "    if chunk.choices and len(chunk.choices) > 0:\n",
    "        delta = getattr(chunk.choices[0], \"delta\", None)\n",
    "        content = getattr(delta, \"content\", None)\n",
    "        if content:\n",
    "            result += content  \n",
    "            print(content, end=\"\", flush=True)\n",
    "    else:\n",
    "        print(\"Invalid chunk structure\")\n",
    "\n",
    "\n"
   ]
  },
  {
   "cell_type": "code",
   "execution_count": 37,
   "metadata": {},
   "outputs": [
    {
     "name": "stdout",
     "output_type": "stream",
     "text": [
      "**Receipt Details**\n",
      "\n",
      "* **Date:** 03-08-2024\n",
      "* **Location:** M/s. K.G. Bhat Service Station, Pumpwell, Mangaluru - 575 002\n",
      "* **Dealer Information:**\n",
      "\t+ Name: Indian Oil Corporation Ltd.\n",
      "\t+ Address: Pumpwell, Mangaluru - 575 002\n",
      "* **Payment Information:**\n",
      "\t+ Amount Paid: 2000.00\n",
      "\t+ Payment Method: Cash/Credit Memo\n",
      "* **Vehicle Information:**\n",
      "\t+ Vehicle No.: Not Provided\n",
      "\t+ Particulars: M.S. H.S.D. XP95\n",
      "\t+ Rate: 88.15\n",
      "* **Quantity Information:**\n",
      "\t+ Qty.: 22.62 Ltr\n",
      "* **Memo Number:** No: 106413Invalid chunk structure\n",
      "\n",
      "Result saved to 'ocr_result.json'\n"
     ]
    }
   ],
   "source": [
    "import json\n",
    "from together import Together\n",
    "import base64\n",
    "\n",
    "client = Together(api_key=\"21c8753437eb9ce5822db4ee270abea087cc4ab2e31f59401f8ee91d1973aa62\")\n",
    "\n",
    "getDescriptionPrompt = \"\"\"detect and give all important info.for  date use dd-mm-yyyy format\"\"\"\n",
    "\n",
    "imagePath = \"test.jpg\"  # Image path\n",
    "\n",
    "# Function to encode the image into base64 format\n",
    "def encode_image(image_path):\n",
    "    with open(image_path, \"rb\") as image_file:\n",
    "        return base64.b64encode(image_file.read()).decode('utf-8')\n",
    "\n",
    "base64_image = encode_image(imagePath)\n",
    "\n",
    "# Making the API request\n",
    "try:\n",
    "    stream = client.chat.completions.create(\n",
    "        model=\"meta-llama/Llama-Vision-Free\",\n",
    "        messages=[\n",
    "            {\n",
    "                \"role\": \"user\",\n",
    "                \"content\": [\n",
    "                    {\"type\": \"text\", \"text\": getDescriptionPrompt},\n",
    "                    {\n",
    "                        \"type\": \"image_url\",\n",
    "                        \"image_url\": {\n",
    "                            \"url\": f\"data:image/jpeg;base64,{base64_image}\",\n",
    "                        },\n",
    "                    },\n",
    "                ],\n",
    "            }\n",
    "        ],\n",
    "        stream=True,\n",
    "    )\n",
    "\n",
    "    result = \"\"  # To accumulate result content\n",
    "    result_data = {}  # Dictionary to store the final result\n",
    "\n",
    "    # Process the stream to extract content\n",
    "    for chunk in stream:\n",
    "        if chunk.choices and len(chunk.choices) > 0:\n",
    "            delta = getattr(chunk.choices[0], \"delta\", None)\n",
    "            content = getattr(delta, \"content\", None)\n",
    "            if content:\n",
    "                result += content\n",
    "                print(content, end=\"\", flush=True)\n",
    "                # Assuming the content contains structured data, you can store it in result_data\n",
    "                # You can parse it as key-value pairs if needed, or just store the entire result as text\n",
    "                result_data[\"extracted_text\"] = result  # Save the content as part of the result\n",
    "\n",
    "        else:\n",
    "            print(\"Invalid chunk structure\")\n",
    "\n",
    "    # Save the result as a JSON file\n",
    "    with open('ocr_result.json', 'w') as json_file:\n",
    "        json.dump(result_data, json_file, indent=4)\n",
    "\n",
    "    print(\"\\nResult saved to 'ocr_result.json'\")\n",
    "\n",
    "except Exception as e:\n",
    "    print(f\"Error occurred: {e}\")\n"
   ]
  },
  {
   "cell_type": "code",
   "execution_count": 31,
   "metadata": {},
   "outputs": [],
   "source": [
    "data = extract_data_flexible(result)\n",
    "\n"
   ]
  },
  {
   "cell_type": "code",
   "execution_count": 28,
   "metadata": {},
   "outputs": [
    {
     "data": {
      "text/plain": [
       "{'Bill_Date': '03-08-2024',\n",
       " 'Rate': '88.15',\n",
       " 'Quantity': '22.68',\n",
       " 'Amount': '2000.00',\n",
       " 'Product': 'LUBE'}"
      ]
     },
     "execution_count": 28,
     "metadata": {},
     "output_type": "execute_result"
    }
   ],
   "source": [
    "data"
   ]
  },
  {
   "cell_type": "code",
   "execution_count": 37,
   "metadata": {},
   "outputs": [],
   "source": [
    "data1 = pd.DataFrame([data])"
   ]
  },
  {
   "cell_type": "code",
   "execution_count": 38,
   "metadata": {},
   "outputs": [
    {
     "data": {
      "text/html": [
       "<div>\n",
       "<style scoped>\n",
       "    .dataframe tbody tr th:only-of-type {\n",
       "        vertical-align: middle;\n",
       "    }\n",
       "\n",
       "    .dataframe tbody tr th {\n",
       "        vertical-align: top;\n",
       "    }\n",
       "\n",
       "    .dataframe thead th {\n",
       "        text-align: right;\n",
       "    }\n",
       "</style>\n",
       "<table border=\"1\" class=\"dataframe\">\n",
       "  <thead>\n",
       "    <tr style=\"text-align: right;\">\n",
       "      <th></th>\n",
       "      <th>Bill_Date</th>\n",
       "      <th>Rate</th>\n",
       "      <th>Quantity</th>\n",
       "      <th>Amount</th>\n",
       "      <th>Product</th>\n",
       "    </tr>\n",
       "  </thead>\n",
       "  <tbody>\n",
       "    <tr>\n",
       "      <th>0</th>\n",
       "      <td>03-08-2024</td>\n",
       "      <td>88.15</td>\n",
       "      <td>22.62 liters</td>\n",
       "      <td>2000.00</td>\n",
       "      <td>LUBE</td>\n",
       "    </tr>\n",
       "  </tbody>\n",
       "</table>\n",
       "</div>"
      ],
      "text/plain": [
       "    Bill_Date   Rate      Quantity   Amount Product\n",
       "0  03-08-2024  88.15  22.62 liters  2000.00    LUBE"
      ]
     },
     "execution_count": 38,
     "metadata": {},
     "output_type": "execute_result"
    }
   ],
   "source": [
    "data1"
   ]
  },
  {
   "cell_type": "code",
   "execution_count": 26,
   "metadata": {},
   "outputs": [
    {
     "name": "stdout",
     "output_type": "stream",
     "text": [
      "The invoice details are as follows:\n",
      "\n",
      "**Date:** 10-10-2024\n",
      "**Time:** 22:20:02\n",
      "**Location:** Thane, Mainpada\n",
      "**Vehicle Information:**\n",
      "* **Make:** Laxmi Automobiles\n",
      "* **Model:** Thane, 400607\n",
      "* **Chassis Number:** 4101011378\n",
      "* **Engine Number:** Not provided\n",
      "* **Vehicle Type:** Petrol (2 Wheeler)\n",
      "\n",
      "**Transaction Details:**\n",
      "* **Amount:** 2000.00\n",
      "* **Currency:** Indian Rupee (INR)\n",
      "* **Tax Type:** Local Amount\n",
      "* **Rate/Ltr.:** 103.57\n",
      "* **Volume (Ltr.):** 19.31\n",
      "* **TxEnd:** 22:20:02\n",
      "* **TxSt:** 22:20:02\n",
      "* **Attendant:** Not provided\n",
      "* **PayMode:** Cash\n",
      "* **Product:** Petrol\n",
      "* **NozzleNo:** Not provided\n",
      "* **BayNo:** Not provided\n",
      "* **Time:** 22:22:04\n"
     ]
    }
   ],
   "source": [
    "print(result)\n",
    "if \"Date\" in result:\n",
    "    # Extract the date in the format dd/mm/yyyy using regex\n",
    "    date_match = re.findall(r\"\\b(\\d{2}/\\d{2}/\\d{4})\\b\", result)\n",
    "    if date_match:\n",
    "        extracted_date = date_match[0]  # Get the first match (if multiple, handle accordingly)\n",
    "        print(\"Extracted Date:\", extracted_date)"
   ]
  },
  {
   "cell_type": "code",
   "execution_count": null,
   "metadata": {},
   "outputs": [
    {
     "ename": "AttributeError",
     "evalue": "'builtin_function_or_method' object has no attribute 'splitlines'",
     "output_type": "error",
     "traceback": [
      "\u001b[1;31m---------------------------------------------------------------------------\u001b[0m",
      "\u001b[1;31mAttributeError\u001b[0m                            Traceback (most recent call last)",
      "Cell \u001b[1;32mIn[34], line 1\u001b[0m\n\u001b[1;32m----> 1\u001b[0m result \u001b[38;5;241m=\u001b[39m\u001b[43mresult\u001b[49m\u001b[38;5;241;43m.\u001b[39;49m\u001b[43msplitlines\u001b[49m()\n",
      "\u001b[1;31mAttributeError\u001b[0m: 'builtin_function_or_method' object has no attribute 'splitlines'"
     ]
    }
   ],
   "source": [
    "result"
   ]
  },
  {
   "cell_type": "code",
   "execution_count": 33,
   "metadata": {},
   "outputs": [
    {
     "data": {
      "text/plain": [
       "<function str.splitlines(keepends=False)>"
      ]
     },
     "execution_count": 33,
     "metadata": {},
     "output_type": "execute_result"
    }
   ],
   "source": [
    "result"
   ]
  },
  {
   "cell_type": "code",
   "execution_count": null,
   "metadata": {},
   "outputs": [
    {
     "data": {
      "text/html": [
       "<div>\n",
       "<style scoped>\n",
       "    .dataframe tbody tr th:only-of-type {\n",
       "        vertical-align: middle;\n",
       "    }\n",
       "\n",
       "    .dataframe tbody tr th {\n",
       "        vertical-align: top;\n",
       "    }\n",
       "\n",
       "    .dataframe thead th {\n",
       "        text-align: right;\n",
       "    }\n",
       "</style>\n",
       "<table border=\"1\" class=\"dataframe\">\n",
       "  <thead>\n",
       "    <tr style=\"text-align: right;\">\n",
       "      <th></th>\n",
       "      <th>Bill Number</th>\n",
       "      <th>Bill Date</th>\n",
       "      <th>Amount</th>\n",
       "      <th>Rate</th>\n",
       "      <th>Quantity</th>\n",
       "      <th>Time</th>\n",
       "    </tr>\n",
       "  </thead>\n",
       "  <tbody>\n",
       "    <tr>\n",
       "      <th>0</th>\n",
       "      <td>106413</td>\n",
       "      <td></td>\n",
       "      <td>2000.00</td>\n",
       "      <td>88.15</td>\n",
       "      <td>22.62 Ltrs</td>\n",
       "      <td>Not provided</td>\n",
       "    </tr>\n",
       "  </tbody>\n",
       "</table>\n",
       "</div>"
      ],
      "text/plain": [
       "  Bill Number Bill Date   Amount   Rate    Quantity          Time\n",
       "0      106413            2000.00  88.15  22.62 Ltrs  Not provided"
      ]
     },
     "execution_count": 42,
     "metadata": {},
     "output_type": "execute_result"
    }
   ],
   "source": [
    "columns = [\"Bill Number\", \"Bill Date\", \"Amount\", \"Rate\", \"Quantity\", \"Time\"]\n",
    "\n",
    "# Process the result into key-value pairs\n",
    "data = {}\n",
    "for line in result.strip().split(\"\\n\"):\n",
    "    if \":**\" in line:\n",
    "        key, value = line.split(\":**\")\n",
    "        key = key.strip(\"** \").strip()\n",
    "        value = value.strip()\n",
    "        data[key] = value\n",
    "\n",
    "# Ensure data matches the predefined columns (use empty string if a column is missing)\n",
    "row = [data.get(col, \"\") for col in columns]\n",
    "\n",
    "# Create a DataFrame with predefined columns\n",
    "df = pd.DataFrame([row], columns=columns)\n",
    "\n",
    "# Display the DataFrame\n",
    "df"
   ]
  },
  {
   "cell_type": "code",
   "execution_count": 45,
   "metadata": {},
   "outputs": [
    {
     "name": "stdout",
     "output_type": "stream",
     "text": [
      "   Bill Number Bill Date Amount Rate Quantity      Time\n",
      "0  27760065781        12                       10:19:38\n"
     ]
    }
   ],
   "source": [
    "import re\n",
    "import pandas as pd\n",
    "\n",
    "\n",
    "\n",
    "# Define the expected keys and associated patterns\n",
    "patterns = {\n",
    "    \"Bill Number\": r\"Bill Number[:\\s*]+(\\d+)\",\n",
    "    \"Bill Date\": r\"Date[:\\s*]+([\\d/]+)\",\n",
    "    \"Amount\": r\"Amount[:\\s*]+([\\d.]+)\",\n",
    "    \"Rate\": r\"Rate[:\\s*]+([\\d.]+)\",\n",
    "    \"Quantity\": r\"Quantity[:\\s*]+([\\d.]+)\",\n",
    "    \"Time\": r\"Time[:\\s*]+(.+)\"\n",
    "}\n",
    "\n",
    "# Preprocess the text to remove stars and extra symbols\n",
    "normalized_result = re.sub(r\"[*]+\", \"\", result)  # Remove all asterisks\n",
    "normalized_result = normalized_result.strip()    # Remove leading/trailing whitespace\n",
    "\n",
    "# Initialize a dictionary to store extracted data\n",
    "data = {}\n",
    "\n",
    "# Iterate over the patterns and extract values using regex\n",
    "for key, pattern in patterns.items():\n",
    "    match = re.search(pattern, normalized_result)\n",
    "    if match:\n",
    "        data[key] = match.group(1).strip()  # Extract and clean the matched value\n",
    "    else:\n",
    "        data[key] = \"\"  # Default to empty if no match found\n",
    "\n",
    "# Define the columns and create a DataFrame\n",
    "columns = [\"Bill Number\", \"Bill Date\", \"Amount\", \"Rate\", \"Quantity\", \"Time\"]\n",
    "row = [data.get(col, \"\") for col in columns]\n",
    "df = pd.DataFrame([row], columns=columns)\n",
    "\n",
    "# Output the DataFrame\n",
    "print(df)\n"
   ]
  },
  {
   "cell_type": "code",
   "execution_count": 122,
   "metadata": {},
   "outputs": [
    {
     "name": "stdout",
     "output_type": "stream",
     "text": [
      "Debug: Extracted date: 12-10-2024\n",
      "Debug: Extracted time: 10:19:38\n",
      "\n",
      "Final Extracted Data: {'date': '12-10-2024', 'time': '10:19:38', 'bill_no': None, 'amount': None, 'volume': None, 'rate': None}\n"
     ]
    }
   ],
   "source": [
    "# Input: text extracted from the image in key:value format\n",
    "\n",
    "\n",
    "\n",
    "# Dictionary to store the extracted values\n",
    "data_dict = {\n",
    "    \"date\": None,\n",
    "    \"time\": None,\n",
    "    \"bill_no\": None,\n",
    "    \"amount\": None,\n",
    "    \"volume\": None,\n",
    "    \"rate\": None\n",
    "}\n",
    "\n",
    "# Process the text line by line\n",
    "for line in result.splitlines():\n",
    "    line = line.strip()  # Remove leading/trailing whitespace  # Debug print to trace the line content\n",
    "\n",
    "    if line.startswith(\"* **Date**\"):\n",
    "        data_dict[\"date\"] = line.split(\":\")[1].strip()\n",
    "        print(f\"Debug: Extracted date: {data_dict['date']}\")\n",
    "    elif line.startswith(\"* **Time**\"):\n",
    "        data_dict[\"time\"] = line.split(\": \", 3)[1].strip()\n",
    "        print(f\"Debug: Extracted time: {data_dict['time']}\")\n",
    "    elif line.startswith(\"* **BILL NUM**|* **Bay No**\"):\n",
    "        data_dict[\"bill_no\"] = line.split(\": \")[1].strip()\n",
    "        print(f\"Debug: Extracted bill number: {data_dict['bill_no']}\")\n",
    "    elif line.startswith(\"* **BASE AMT.**\"):\n",
    "        data_dict[\"amount\"] = line.split(\": \", 1)[1].strip()\n",
    "        print(f\"Debug: Extracted amount: {data_dict['amount']}\")\n",
    "    # Additional fields can be added as needed\n",
    "\n",
    "# Output the results\n",
    "print(\"\\nFinal Extracted Data:\", data_dict)\n"
   ]
  },
  {
   "cell_type": "code",
   "execution_count": 27,
   "metadata": {},
   "outputs": [
    {
     "name": "stdout",
     "output_type": "stream",
     "text": [
      "    Bill Date      Time    Rate Quantity  Amount Bill Number\n",
      "0  12-10-2024  10:19:38  103.57     3.86  399.78  4101217576\n"
     ]
    }
   ],
   "source": [
    "import re\n",
    "import pandas as pd\n",
    "\n",
    "# Example result string\n",
    "result = \"\"\"\n",
    "Date: 12-10-2024\n",
    "Time: 10:19:38\n",
    "Product: Petrol\n",
    "Cash: 4101217576\n",
    "Txn Id: 4101217576\n",
    "Attendant: Not specified\n",
    "TxSt: 12-10-24 10:18:12\n",
    "TxEnd: 12-10-24 10:18:41\n",
    "Rate/Ltr.: 103.57\n",
    "Volume (Ltr.): 3.86\n",
    "Amount (Rs.): 399.78\n",
    "VechNo: Not specified\n",
    "MobileNo: Not specified\n",
    "\"\"\"\n",
    "\n",
    "# Define patterns for the fields\n",
    "patterns = {\n",
    "    \"Bill Date\": r\"Date:\\s+([\\d-]+)\",\n",
    "    \"Time\": r\"Time:\\s+([\\d:]+)\",\n",
    "    \"Rate\": r\"Rate/Ltr\\.\\:\\s+([\\d.]+)\",\n",
    "    \"Quantity\": r\"Volume \\(Ltr\\.\\):\\s+([\\d.]+)\",\n",
    "    \"Amount\": r\"Amount \\(Rs\\.\\):\\s+([\\d.]+)\",\n",
    "    \"Bill Number\": r\"Txn Id:\\s+(\\d+)\"  # Assuming Txn Id is the bill number\n",
    "}\n",
    "\n",
    "# Extract the data using regex\n",
    "data = {}\n",
    "for key, pattern in patterns.items():\n",
    "    match = re.search(pattern, result)\n",
    "    if match:\n",
    "        data[key] = match.group(1).strip()\n",
    "    else:\n",
    "        data[key] = \"\"  # Default to empty if no match found\n",
    "\n",
    "# Define the columns and create a DataFrame\n",
    "columns = [\"Bill Date\", \"Time\", \"Rate\", \"Quantity\", \"Amount\", \"Bill Number\"]\n",
    "row = [data.get(col, \"\") for col in columns]\n",
    "df = pd.DataFrame([row], columns=columns)\n",
    "\n",
    "# Output the DataFrame\n",
    "print(df)\n"
   ]
  },
  {
   "cell_type": "code",
   "execution_count": 46,
   "metadata": {},
   "outputs": [],
   "source": [
    "Data = {\"Date\":\"\",\n",
    "        \"Time\":\"\",\n",
    "        \"Bill_No\":\"\",\n",
    "        \"Rate/Ltr\":\"\",\n",
    "        \"Qantity\":\"\",\n",
    "        \"Amount\":\"\"}"
   ]
  },
  {
   "cell_type": "code",
   "execution_count": 61,
   "metadata": {},
   "outputs": [
    {
     "name": "stdout",
     "output_type": "stream",
     "text": [
      "Invalid chunk structure\n",
      "Date: The date of the receipt is 12-10-2024.\n",
      "Invalid chunk structure\n",
      "Rate/Ltr: The Rate/Ltr. is 103.57.\n",
      "Invalid chunk structure\n",
      "Qantity: The quantity and volume are both 3.86. \n",
      "\n",
      "This suggests that the product being sold is liquid, such as gasoline or diesel, and the amount purchased is 3.86 liters.\n",
      "Invalid chunk structure\n",
      "Amount: The amount in rupees is 399.78.\n"
     ]
    }
   ],
   "source": [
    "\n",
    "key_prompts = {\n",
    "    \"Date\": \"extract date.\",\n",
    "    \"Rate/Ltr\": \"extract Rate/Ltr.\",\n",
    "    \"Qantity\": \"extract Quantity. The quantity and volume are the same.\",\n",
    "    \"Amount\": \"extract Amount in rs.\"\n",
    "}\n",
    "\n",
    "# Loop through the mapping and process the keys dynamically\n",
    "for key, prompt in key_prompts.items():\n",
    "    if key in Data:\n",
    "        extracted_value = process_image_with_together(client, base64_image, prompt)\n",
    "        Data[key] = extracted_value  \n",
    "        print(f\"{key}: {extracted_value}\")\n"
   ]
  },
  {
   "cell_type": "code",
   "execution_count": 62,
   "metadata": {},
   "outputs": [
    {
     "data": {
      "text/plain": [
       "{'Date': 'The date of the receipt is 12-10-2024.',\n",
       " 'Time': '',\n",
       " 'Bill_No': '',\n",
       " 'Rate/Ltr': 'The Rate/Ltr. is 103.57.',\n",
       " 'Qantity': 'The quantity and volume are both 3.86. \\n\\nThis suggests that the product being sold is liquid, such as gasoline or diesel, and the amount purchased is 3.86 liters.',\n",
       " 'Amount': 'The amount in rupees is 399.78.'}"
      ]
     },
     "execution_count": 62,
     "metadata": {},
     "output_type": "execute_result"
    }
   ],
   "source": [
    "Data"
   ]
  },
  {
   "cell_type": "code",
   "execution_count": null,
   "metadata": {},
   "outputs": [],
   "source": []
  }
 ],
 "metadata": {
  "kernelspec": {
   "display_name": ".venv",
   "language": "python",
   "name": "python3"
  },
  "language_info": {
   "codemirror_mode": {
    "name": "ipython",
    "version": 3
   },
   "file_extension": ".py",
   "mimetype": "text/x-python",
   "name": "python",
   "nbconvert_exporter": "python",
   "pygments_lexer": "ipython3",
   "version": "3.13.0"
  }
 },
 "nbformat": 4,
 "nbformat_minor": 2
}
